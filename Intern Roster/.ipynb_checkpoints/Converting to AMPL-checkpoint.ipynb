{
 "cells": [
  {
   "cell_type": "markdown",
   "metadata": {},
   "source": [
    "# Conversion to AMPL"
   ]
  },
  {
   "cell_type": "markdown",
   "metadata": {},
   "source": [
    "# v1.0"
   ]
  },
  {
   "cell_type": "markdown",
   "metadata": {},
   "source": [
    "##### Decision Variable\n",
    "\n",
    "$x_{j,k}^i$ is our boolean decision variable which means it can have a value of a $1$ or a $0$. \n",
    "\n",
    "$x_{1,1}^1 = 1$ would mean that intern $1$ is doing rotation $1$ in week $1$.\n",
    "\n",
    "**Expressed in the CPLEX language AMPL:**\n",
    "\n",
    "dvar boolean x[Intern][Rotation][Week];"
   ]
  },
  {
   "cell_type": "markdown",
   "metadata": {},
   "source": [
    "##### Physical Constraint\n",
    "\n",
    "$$ {\\large\\forall_{i}^{Intern}}, \\;  {\\large\\forall_{k}^{Week}} \\quad \\sum_j^{Rotation} \\; x^i_{j, k} \\leq 1 $$\n",
    "\n",
    "**Expressed in AMPL:**\n",
    "\n",
    "forall(i in Intern, k in Week):  sum(j in Rotation)x[i][j][k] <= 1;"
   ]
  },
  {
   "cell_type": "markdown",
   "metadata": {},
   "source": [
    "##### Completion Constraint\n",
    "\n",
    "$${\\large\\forall_{i}^{Intern}} \\quad \\sum_k^{Week} \\; x_{\"CPD-G\",k}^i \\geq 8 $$\n",
    "\n",
    "**In AMPL:**\n",
    "\n",
    "forall(i in Intern): \n",
    "  sum(k in Week)x[i][\"CPD-G\"][k] >= 8;"
   ]
  },
  {
   "cell_type": "markdown",
   "metadata": {},
   "source": [
    "##### Rotation Capacity Constraint\n",
    " \n",
    "$$ {\\large\\forall_{k}^{Week}} \\quad \\sum_i^{Intern} \\; x^i_{\"CPD-G\", k} \\leq 2 $$\n",
    "\n",
    "**In AMPL:**\n",
    "\n",
    "forall(k in Week): \n",
    "  sum(i in Intern)x[i][\"CPD-G\"][k] <= 2;"
   ]
  },
  {
   "cell_type": "markdown",
   "metadata": {},
   "source": [
    "##### Rotation Duration Constraint\n",
    " \n",
    "$$ {\\large\\forall_{i}^{Intern}} \\quad \\sum_j^{Rotation} \\sum_k^{Week} \\; Duration_j \\cdot x^i_{j, k} \\geq \\sum_j^{Rotation} Duration_j $$\n",
    "\n",
    "\n",
    "**In AMPL:**\n",
    "\n",
    "forall(i in Intern):\n",
    "  sum(j in Rotation, k in Week) Duration[j]*x[i][j][k] >= sum(j in Rotation) Duration[j];"
   ]
  },
  {
   "cell_type": "markdown",
   "metadata": {},
   "source": [
    "# v2.0"
   ]
  },
  {
   "cell_type": "markdown",
   "metadata": {},
   "source": [
    "###### Rotation Completion Constraint\n",
    "\n",
    "$$ {\\large\\forall_{i}^{Intern}}, \\; {\\large\\forall_{j}^{Rotation}} \\quad \\sum_k^{Week} \\; x^i_{j, k} \\geq 1 $$\n",
    "\n",
    "**In AMPL:**\n",
    "\n",
    "forall(i in Intern, j in Rotation):\n",
    "  sum(k in Week)x[i][j][k] >= 1;"
   ]
  },
  {
   "cell_type": "markdown",
   "metadata": {},
   "source": [
    "# v3.0"
   ]
  },
  {
   "cell_type": "markdown",
   "metadata": {},
   "source": [
    "##### Objective Function\n",
    "\n",
    "$$ \\text{maximise} \\sum_i^{Intern} \\; \\sum_j^{Rotation} \\; \\sum_k^{Week} \\quad x_{j,k}^i $$\n",
    "\n",
    "**In AMPL:**\n",
    "\n",
    "dexpr int\tz = sum(i in Intern, j in Rotation, k in Week) x[i][j][k];\n",
    "\n",
    "maximize z;"
   ]
  },
  {
   "cell_type": "markdown",
   "metadata": {},
   "source": [
    "##### Rotation Duration Constraint\n",
    "\n",
    "$$\\sum_{\\alpha = 0}^7 y_{1,k + \\alpha}^i = 8 \\; \\text{  if  }\\; x_{1,k}^i = 1$$\n",
    "\n",
    "**In AMPL:**\n",
    "\n",
    "forall(i in Intern, k in 1..47):\n",
    "  8 -(sum(a in 0..7)x[i][1][k + a]) <= M*y;\n",
    "  \n",
    "forall(i in Intern, k in 1..47):\n",
    "  x[i][1][k] <= M*(1-y);"
   ]
  }
 ],
 "metadata": {
  "kernelspec": {
   "display_name": "Python 3",
   "language": "python",
   "name": "python3"
  },
  "language_info": {
   "codemirror_mode": {
    "name": "ipython",
    "version": 3
   },
   "file_extension": ".py",
   "mimetype": "text/x-python",
   "name": "python",
   "nbconvert_exporter": "python",
   "pygments_lexer": "ipython3",
   "version": "3.7.1"
  }
 },
 "nbformat": 4,
 "nbformat_minor": 2
}
