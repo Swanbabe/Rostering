{
 "cells": [
  {
   "cell_type": "markdown",
   "metadata": {},
   "source": [
    "\"For any given week, each intern can only be doing one job at a time.  Noone can be doing two or more jobs at once.\""
   ]
  },
  {
   "cell_type": "markdown",
   "metadata": {},
   "source": [
    "This as an expanded system of equations:"
   ]
  },
  {
   "cell_type": "markdown",
   "metadata": {},
   "source": [
    "$$x^{1}_{1,1} + x^{1}_{2,1} + \\cdots + x^{1}_{17,1} \\leq 1$$\n",
    "$$x^{2}_{1,1} + x^{2}_{2,1} + \\cdots + x^{2}_{17,1} \\leq 1$$\n",
    "$$\\quad \\vdots \\quad \\quad \\vdots \\quad \\quad \\vdots \\quad \\quad \\vdots $$\n",
    "$$x^{11}_{1,1} + x^{11}_{2,1} + \\cdots + x^{11}_{17,1} \\leq 1$$\n",
    "$$x^{1}_{1,2} + x^{1}_{2,2} + \\cdots + x^{1}_{17,2} \\leq 1$$\n",
    "$$\\quad \\vdots \\quad \\quad \\vdots \\quad \\quad \\vdots \\quad \\quad \\vdots $$\n",
    "$$\\quad \\vdots \\quad \\quad \\vdots \\quad \\quad \\vdots \\quad \\quad \\vdots $$\n",
    "$$\\quad \\vdots \\quad \\quad \\vdots \\quad \\quad \\vdots \\quad \\quad \\vdots $$\n",
    "$$x^{11}_{1,54} + x^{11}_{2,54} + \\cdots + x^{11}_{17,54} \\leq 1$$\n"
   ]
  },
  {
   "cell_type": "markdown",
   "metadata": {},
   "source": [
    "And in its compacted form, which will be converted to AMPL for CPLEX:"
   ]
  },
  {
   "cell_type": "markdown",
   "metadata": {},
   "source": [
    "\n",
    "$$\\sum_{j=1}^{17} x^i_{j,k} \\leq 1 \\quad \\forall_{i=1}^{11} \\; \\forall_{k=1}^{54}$$"
   ]
  }
 ],
 "metadata": {
  "kernelspec": {
   "display_name": "Python 3",
   "language": "python",
   "name": "python3"
  },
  "language_info": {
   "codemirror_mode": {
    "name": "ipython",
    "version": 3
   },
   "file_extension": ".py",
   "mimetype": "text/x-python",
   "name": "python",
   "nbconvert_exporter": "python",
   "pygments_lexer": "ipython3",
   "version": "3.7.1"
  }
 },
 "nbformat": 4,
 "nbformat_minor": 2
}
