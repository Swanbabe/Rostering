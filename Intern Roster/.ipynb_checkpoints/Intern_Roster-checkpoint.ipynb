{
 "cells": [
  {
   "cell_type": "markdown",
   "metadata": {},
   "source": [
    "# Intern Roster"
   ]
  },
  {
   "cell_type": "markdown",
   "metadata": {},
   "source": [
    "## Introduction"
   ]
  },
  {
   "cell_type": "markdown",
   "metadata": {},
   "source": [
    "We have 11 interns. Let each intern be $i$.\n",
    "\n",
    "We have 13 rotations.  Let each rotation be $j$.  There are also three annual leave rotations.  These shall be $j$ values 14, 15, 16.  Therefore the total is 16.\n",
    "\n",
    "We have 54 weeks for the whole period of the roster.  Let each week be $k$.\n",
    "\n",
    "|j|Rotation Label|Duration|Maximum Interns per week|\n",
    "|:-:|:-:|:-:|:-:|\n",
    "|1|CPD-G|8|2|\n",
    "|2|CPD-V|4|1|\n",
    "|3|AP|4|1|\n",
    "|4|MIC|4|1|\n",
    "|5|MCH|2|1|\n",
    "|6|CPCa|3|1|\n",
    "|7|CPM|3|no limit|\n",
    "|8|CPK|2|no limit|\n",
    "|9|IP|4|2|\n",
    "|10|DISP|3|no limit|\n",
    "|11|CPC|5|no limit|\n",
    "|12|QUM|1|1|\n",
    "|13|H|1|1|\n",
    "|14|A/L_1|1|11|\n",
    "|15|A/L_2.1|1|6|\n",
    "|16|A/L_2.2|1|5|\n",
    "\n"
   ]
  },
  {
   "cell_type": "markdown",
   "metadata": {},
   "source": [
    "## Decision Variables"
   ]
  },
  {
   "cell_type": "markdown",
   "metadata": {},
   "source": [
    "$x_{jk}^i$\n",
    "where $i$ is an intern, rostered in area $j$, on week $k$\n",
    "\n",
    "Let $x_{jk}^i = 1$ if person $i$ is doing rotation $j$ for week $k$.\n",
    "\n",
    "$x$ is valid when a person is beginning a rotation\n",
    "\n",
    "$w_{j, k + \\alpha}^i$\n",
    "where $i$ is an intern, rostered in area $j$, on week $k$ and $\\alpha$ is the duration of a rotation."
   ]
  },
  {
   "cell_type": "markdown",
   "metadata": {},
   "source": [
    "## Objective Function"
   ]
  },
  {
   "cell_type": "markdown",
   "metadata": {},
   "source": [
    "$$ \\text{maximise} \\sum_i \\; \\sum_j \\; \\sum_k x_{jk}^i $$"
   ]
  },
  {
   "cell_type": "markdown",
   "metadata": {},
   "source": [
    "## Constraints"
   ]
  },
  {
   "cell_type": "markdown",
   "metadata": {},
   "source": [
    "### _Intern Physical Person Constraint_"
   ]
  },
  {
   "cell_type": "markdown",
   "metadata": {},
   "source": [
    "That one person can only be in one place at once:\n",
    "\n",
    "$$\\sum_j \\; x_{jk}^i \\leq 1 \\quad \n",
    "\\forall i \\; \\forall k $$"
   ]
  },
  {
   "cell_type": "markdown",
   "metadata": {},
   "source": [
    "### _Intern Rotation Completion Constraint_\n",
    "\n",
    "\n",
    "\n",
    "$$\\sum_k x_{1,k}^i \\geq 8 \\quad  \\forall i $$\n",
    "\n",
    "$$\\sum_k x_{2,k}^i \\geq 4 \\quad  \\forall i $$\n",
    "\n",
    "$$\\sum_k x_{3,k}^i = 4 \\quad  \\forall i $$\n",
    "\n",
    "$$\\sum_k x_{4,k}^i \\geq 4 \\quad  \\forall i $$\n",
    "\n",
    "$$\\sum_k x_{5,k}^i \\geq 2 \\quad  \\forall i $$\n",
    "\n",
    "$$\\sum_k x_{6,k}^i \\geq 3 \\quad  \\forall i $$\n",
    "\n",
    "$$\\sum_k x_{7,k}^i \\geq 3 \\quad  \\forall i $$\n",
    "\n",
    "$$\\sum_k x_{8,k}^i \\geq 2 \\quad  \\forall i $$\n",
    "\n",
    "$$\\sum_k x_{9,k}^i \\geq 4 \\quad  \\forall i $$\n",
    "\n",
    "$$\\sum_k x_{10,k}^i \\geq 3 \\quad  \\forall i $$\n",
    "\n",
    "$$\\sum_k x_{11,k}^i \\geq 5 \\quad  \\forall i $$\n",
    "\n",
    "$$\\sum_k x_{12,k}^i = 1 \\quad  \\forall i $$\n",
    "\n",
    "$$\\sum_k x_{13,k}^i =1 \\quad  \\forall i $$\n",
    "\n",
    "$$\\sum_k x_{14,k}^i =1 \\quad  \\forall i $$\n",
    "\n",
    "$$\\sum_k x_{15,k}^i =1 \\quad  \\forall i $$\n",
    "\n",
    "$$\\sum_k x_{16,k}^i =1 \\quad  \\forall i $$\n"
   ]
  },
  {
   "cell_type": "markdown",
   "metadata": {},
   "source": [
    "### _Intern Rotation Capacity Constraint_\n",
    " \n",
    " The limit of how many interns can work in an area at once\n",
    "\n",
    "$$\\sum_{i}  x_{1,k}^i \\leq 2  \\quad  \\; \\forall k$$\n",
    "$$\\sum_{i}  x_{2,k}^i \\leq 1  \\quad  \\; \\forall k$$\n",
    "$$\\sum_{i}  x_{3,k}^i \\leq 1  \\quad  \\; \\forall k$$\n",
    "$$\\sum_{i}  x_{4,k}^i \\leq 1  \\quad  \\; \\forall k$$\n",
    "$$\\sum_{i}  x_{5,k}^i \\leq 1  \\quad  \\; \\forall k$$\n",
    "$$\\sum_{i}  x_{6,k}^i \\leq 1  \\quad  \\; \\forall k$$\n",
    "$$\\sum_{i}  x_{7,k}^i \\geq 0  \\quad  \\; \\forall k$$\n",
    "$$\\sum_{i}  x_{8,k}^i \\geq 0  \\quad  \\; \\forall k$$\n",
    "$$\\sum_{i}  x_{9,k}^i \\leq 2  \\quad  \\; \\forall k$$\n",
    "$$\\sum_{i}  x_{10,k}^i \\geq 0  \\quad  \\; \\forall k$$\n",
    "$$\\sum_{i}  x_{11,k}^i \\geq 0  \\quad  \\; \\forall k$$\n",
    "$$\\sum_{i}  x_{12,k}^i \\leq 1  \\quad  \\; \\forall k$$\n",
    "$$\\sum_{i}  x_{13,k}^i \\leq 1  \\quad  \\; \\forall k$$"
   ]
  },
  {
   "cell_type": "markdown",
   "metadata": {},
   "source": [
    "### _Intern Rotation Duration Constraint_\n",
    "\n",
    "This is the major point at which our current model falls apart.  We require interns to spend a period of time in each rotation in **consecutive** blocks.  Mathematically, the below system works, however it becomes flawed when trying to use it in CPLEX. This was an issue for two reasons:\n",
    "1. The inability to input decision variables into \"if\" statements\n",
    "    - This is something we have attemted to rectify with 'Big M' If/Then constraints.  This is currently still a work in progress, however we believe we have some issue with dependency of the variables - it would seem that the variables being dependent undermines the ability of If/Then to work correctly.\n",
    "2. Our initial use of the $k$ values as strings. To combat the 2. issue, we attempted to change $k$ to an integer value, however this resulted in its inability to be used in the same fashion in $x_{jk}^i$. \n",
    "    - This has been resolved.\n",
    "    \n",
    "\n",
    "\n",
    "We are currently re-evaluating our options.  One that was explored was that we might just ascribe weights to each Rotation (this being the duration), and use a binary variable instead of $x_{ij}$.  However this limits us in the particular regard that we would not be able to specify specific weeks for availability - an aspect of flexibility integral as we refine the model.  There are to be a number of final constraints still to be added which depend on the model having this quality.\n",
    "\n",
    "$$\\sum_{\\alpha = 0}^7 y_{1,k + \\alpha}^i = 8 \\; \\text{  if  }\\; x_{1,k}^i = 1$$\n",
    "\n",
    "$$\\sum_{\\alpha = 0}^3 y_{2,k + \\alpha}^i = 4 \\; \\text{  if  }\\; x_{2,k}^i = 1$$\n",
    "\n",
    "$$\\sum_{\\alpha = 0}^3 y_{3,k + \\alpha}^i = 4 \\; \\text{  if  }\\; x_{3,k}^i = 1$$\n",
    "\n",
    "$$\\sum_{\\alpha = 0}^3 y_{4,k + \\alpha}^i = 4 \\; \\text{  if  }\\; x_{4,k}^i = 1$$\n",
    "\n",
    "$$\\sum_{\\alpha = 0}^1 y_{5,k + \\alpha}^i = 2 \\; \\text{  if  }\\; x_{5,k}^i = 1$$\n",
    "\n",
    "$$\\sum_{\\alpha = 0}^2 y_{6,k + \\alpha}^i = 3 \\; \\text{  if  }\\; x_{6,k}^i = 1$$\n",
    "\n",
    "$$\\sum_{\\alpha = 0}^2 y_{7,k + \\alpha}^i = 3 \\; \\text{  if  }\\; x_{7,k}^i = 1$$\n",
    "\n",
    "$$\\sum_{\\alpha = 0}^1 y_{8,k + \\alpha}^i = 2 \\; \\text{  if  }\\; x_{8,k}^i = 1$$\n",
    "\n",
    "$$\\sum_{\\alpha = 0}^3 y_{9,k + \\alpha}^i = 4 \\; \\text{  if  }\\; x_{9,k}^i = 1$$\n",
    "\n",
    "$$\\sum_{\\alpha = 0}^2 y_{10,k + \\alpha}^i = 3 \\; \\text{  if  }\\; x_{10,k}^i = 1$$\n",
    "\n",
    "$$\\sum_{\\alpha = 0}^4 y_{11,k + \\alpha}^i = 5 \\; \\text{  if  }\\; x_{11,k}^i = 1$$\n",
    "\n",
    "$$ y_{12,k}^i = 1 \\; \\text{  if  }\\; x_{12,k}^i = 1$$\n",
    "\n",
    "$$ y_{13,k}^i = 1 \\; \\text{  if  }\\; x_{13,k}^i = 1$$\n",
    "\n",
    "$$ y_{14,k}^i = 1 \\; \\text{  if  }\\; x_{14,k}^i = 1$$\n",
    "\n",
    "$$ y_{15,k}^i = 1 \\; \\text{  if  }\\; x_{15,k}^i = 1$$\n",
    "\n",
    "$$ y_{16,k}^i = 1 \\; \\text{  if  }\\; x_{16,k}^i = 1$$\n",
    "\n",
    "It should be noted that were the above constraints valid in the model, additional decision variables would be needed."
   ]
  },
  {
   "cell_type": "markdown",
   "metadata": {},
   "source": [
    "### Below are some experimentations of duration expressions"
   ]
  },
  {
   "cell_type": "markdown",
   "metadata": {},
   "source": [
    "Expanding one of these...\n",
    "\n",
    "$$ 8 - \\sum_{\\alpha = 0}^7 w_{1,k + \\alpha}^i \\leq M\\cdot y \\quad \\forall_i \\; \\forall_{k=1}^{47}$$\n",
    "$$ x_{1,k}^i \\leq M\\cdot (1-y) \\quad \\forall_i \\; \\forall_{k=1}^{47}$$"
   ]
  },
  {
   "cell_type": "markdown",
   "metadata": {},
   "source": [
    "$$8 - \\bigg( w_{1,1}^1 + w_{1,2}^1 + \\cdots + w_{1,8}^1 \\bigg) \\leq M \\cdot y$$\n",
    "$$\\vdots \\quad \\quad \\quad \\vdots \\quad \\quad \\quad \\vdots \\quad \\quad \\quad \\vdots $$\n",
    "$$8 - \\bigg( w_{1,47}^1 + w_{1,48}^1 + \\cdots + w_{1,54}^1 \\bigg) \\leq M \\cdot y$$\n",
    "$$8 - \\bigg( w_{1,1}^2 + w_{1,2}^2 + \\cdots + w_{1,8}^2 \\bigg) \\leq M \\cdot y$$\n",
    "$$\\vdots \\quad \\quad \\quad \\vdots \\quad \\quad \\quad \\vdots \\quad \\quad \\quad \\vdots $$\n",
    "$$8 - \\bigg( w_{1,47}^2 + w_{1,48}^2 + \\cdots + w_{1,54}^2 \\bigg) \\leq M \\cdot y$$\n",
    "$$\\vdots \\quad \\quad \\quad \\vdots \\quad \\quad \\quad \\vdots \\quad \\quad \\quad \\vdots $$\n",
    "$$\\vdots \\quad \\quad \\quad \\vdots \\quad \\quad \\quad \\vdots \\quad \\quad \\quad \\vdots $$\n",
    "$$8 - \\bigg( w_{1,47}^{11} + w_{1,48}^{11} + \\cdots + w_{1,54}^{11} \\bigg) \\leq M \\cdot y$$\n"
   ]
  },
  {
   "cell_type": "markdown",
   "metadata": {},
   "source": [
    "$$ x_{1,1}^1 \\leq M\\cdot (1-y)$$\n",
    "$$\\vdots  \\quad \\quad \\vdots \\quad  \\quad \\vdots $$\n",
    "$$ x_{1,47}^1 \\leq M\\cdot (1-y)$$\n",
    "$$ x_{1,1}^2 \\leq M\\cdot (1-y)$$\n",
    "$$\\vdots  \\quad \\quad \\vdots \\quad  \\quad \\vdots $$\n",
    "$$\\vdots  \\quad \\quad \\vdots \\quad  \\quad \\vdots $$\n",
    "$$ x_{1,47}^{11} \\leq M\\cdot (1-y)$$\n"
   ]
  },
  {
   "cell_type": "markdown",
   "metadata": {},
   "source": [
    "There appears to be an issue here with having dependent aspects of the variables in the 'if' and 'then' statements - specifically.\n",
    "In consequence we need an alternate formulation of the duration constraints."
   ]
  },
  {
   "cell_type": "markdown",
   "metadata": {},
   "source": [
    "In IBM CPLEX we currently have a constraint like this:\n",
    "\n",
    "forall(i in Intern)\n",
    "  sum(k in Week)x[i][1][k] >= 8;\n",
    "  \n",
    "However, this does not stipulate consecutive values."
   ]
  },
  {
   "cell_type": "markdown",
   "metadata": {},
   "source": [
    "$$ 8 - \\sum_{\\alpha = 0}^7 w_{1,k + \\alpha}^i \\leq M\\cdot y_k \\quad \\forall_i \\; \\forall_{k=1}^{47}$$\n",
    "$$ x_{1,k}^i \\leq M\\cdot (1-y_k) \\quad \\forall_i \\; \\forall_{k=1}^{47}$$"
   ]
  },
  {
   "cell_type": "markdown",
   "metadata": {},
   "source": [
    "_for intern $1$, rotation $1$, week $1$_"
   ]
  },
  {
   "cell_type": "markdown",
   "metadata": {},
   "source": [
    "$$ 8- \\bigg( w_{1,1}^1 + w_{1,2}^1 + w_{1,3}^1 + w_{1,4}^1 + w_{1,5}^1 + w_{1,6}^1 + w_{1,7}^1 + w_{1,8}^1 \\bigg) \\leq 8 \\cdot (1-y_k)$$\n",
    "$$x_{1,1}^{1} \\leq 1 \\cdot y_k$$"
   ]
  },
  {
   "cell_type": "markdown",
   "metadata": {},
   "source": [
    "when $y_1 = 0$\n",
    "\n",
    "$$ 8- \\bigg( w_{1,1}^1 + w_{1,2}^1 + w_{1,3}^1 + w_{1,4}^1 + w_{1,5}^1 + w_{1,6}^1 + w_{1,7}^1 + w_{1,8}^1 \\bigg) \\leq 8$$\n",
    "$$x_{1,1}^{1} \\leq 0$$\n",
    "\n",
    "when $y_1 = 1$\n",
    "\n",
    "$$ 8- \\bigg( w_{1,1}^1 + w_{1,2}^1 + w_{1,3}^1 + w_{1,4}^1 + w_{1,5}^1 + w_{1,6}^1 + w_{1,7}^1 + w_{1,8}^1 \\bigg) \\leq 0$$\n",
    "$$x_{1,1}^{1} \\leq 1$$"
   ]
  },
  {
   "cell_type": "markdown",
   "metadata": {},
   "source": [
    "We need an additional constraint (for each system?) to limit the y."
   ]
  },
  {
   "cell_type": "markdown",
   "metadata": {},
   "source": []
  },
  {
   "cell_type": "markdown",
   "metadata": {},
   "source": [
    "$${\\Large \\forall}_{i=0}^{11} \\; \\sum_{k=1}^{47} \\; \\sum_{\\alpha = 0}^7 \\; C_{1}^{i} \\cdot  y_{1,(k + \\alpha)}^i = 8   $$"
   ]
  },
  {
   "cell_type": "markdown",
   "metadata": {},
   "source": [
    "$$C_{1}^{1} \\cdot  y_{1,(k + \\alpha)}^1 = 8$$"
   ]
  },
  {
   "cell_type": "markdown",
   "metadata": {},
   "source": [
    "$$ 8 - \\sum_{\\alpha = 0}^7 w_{1,k + \\alpha}^i \\leq M\\cdot y \\quad \\forall_i \\; \\forall_{k=1}^{47}$$\n",
    "$$ x_{1,k}^i \\leq M\\cdot (1-y) \\quad \\forall_i \\; \\forall_{k=1}^{47}$$"
   ]
  },
  {
   "cell_type": "markdown",
   "metadata": {},
   "source": [
    "_Intern Leave Constraint_\n",
    "\n",
    "These contraints are currently flawed with our current model - particular as one is unable to use decision variables in 'if' statements and conditions\n",
    "\n",
    "\n",
    "$$\\sum_i x_{14,k}^i = 11z_k \\quad \\text{if} \\quad \\sum_k z_k =1$$\n",
    "\n",
    "$$\\sum_i x_{15,k}^i = 6z_k \\quad \\text{if} \\quad \\sum_k z_k =1$$\n",
    "\n",
    "$$\\sum_i x_{16,k}^i = 5z_k \\quad \\text{if} \\quad \\sum_k z_k =1$$\n",
    "\n",
    "Additionally, after analysis we have deducted that if these constraints were to be working properly, there would be no need for those currently causing issue under the _Intern Rotation Capacity Constraint_.  We believe that those can be manipulated with little trouble however."
   ]
  },
  {
   "cell_type": "code",
   "execution_count": null,
   "metadata": {},
   "outputs": [],
   "source": []
  }
 ],
 "metadata": {
  "kernelspec": {
   "display_name": "Python 3",
   "language": "python",
   "name": "python3"
  },
  "language_info": {
   "codemirror_mode": {
    "name": "ipython",
    "version": 3
   },
   "file_extension": ".py",
   "mimetype": "text/x-python",
   "name": "python",
   "nbconvert_exporter": "python",
   "pygments_lexer": "ipython3",
   "version": "3.7.1"
  }
 },
 "nbformat": 4,
 "nbformat_minor": 2
}
