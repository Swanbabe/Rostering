{
 "cells": [
  {
   "cell_type": "markdown",
   "metadata": {},
   "source": [
    "## Current $j=1$, $j=2$ Pairing Constraints"
   ]
  },
  {
   "cell_type": "markdown",
   "metadata": {},
   "source": [
    "$${\\large\\forall_{k=1}^{54}} \\quad \\sum_{i=1}^{11} x^i_{1,k} \\leq 2$$\n",
    "\n",
    "\n",
    "$$x^{1}_{1,1} + x^{2}_{1,1} + \\cdots + x^{11}_{1,1} \\leq 2$$\n",
    "$$x^{1}_{1,2} + x^{2}_{1,2} + \\cdots + x^{11}_{1,2} \\leq 2$$\n",
    "$$\\vdots \\quad \\quad \\vdots \\quad \\quad \\vdots $$\n",
    "$$x^{1}_{1,54} + x^{2}_{1,54} + \\cdots + x^{11}_{1,54} \\leq 2$$"
   ]
  },
  {
   "cell_type": "markdown",
   "metadata": {},
   "source": [
    "$${\\large\\forall_{k=1}^{54}} \\quad 2 - \\bigg( \\sum_{i=1}^{11} \\sum_{j=1}^{2} x^i_{j,k} \\bigg) \\leq M\\cdot D_k$$\n",
    "\n",
    "\n",
    "$$2 - \\bigg( x^1_{1,1} + x^2_{1,1} + \\cdots + x^{11}_{1,1} + x^1_{2,1} + x^2_{2,1} + \\cdots + x^{11}_{2,1} \\bigg) \\leq M\\cdot D_1$$\n",
    "$$2 - \\bigg( x^1_{1,2} + x^2_{1,2} + \\cdots + x^{11}_{1,2} + x^1_{2,2} + x^2_{2,2} + \\cdots + x^{11}_{2,2} \\bigg) \\leq M\\cdot D_2$$\n",
    "$$\\vdots \\quad \\quad \\quad \\vdots \\quad \\quad \\quad \\vdots \\quad \\quad \\quad \\vdots \\quad \\quad \\quad \\vdots \\quad \\quad \\quad \\vdots$$\n",
    "$$2 - \\bigg( x^1_{1,54} + x^2_{1,54} + \\cdots + x^{11}_{1,54} + x^1_{2,54} + x^2_{2,54} + \\cdots + x^{11}_{2,54} \\bigg) \\leq M\\cdot D_{54}$$"
   ]
  },
  {
   "cell_type": "markdown",
   "metadata": {},
   "source": [
    "$${\\large\\forall_{i=1}^{11}}{\\large\\forall_{k=1}^{54}} \\quad  \\sum_{j=1}^{2} x^i_{j,k} \\leq M\\cdot (1 - D_k)$$\n",
    "\n",
    "\n",
    "$$x^{1}_{1,1} + x^{1}_{2,1} \\leq M\\cdot (1 - D_1)$$\n",
    "$$x^{2}_{1,1} + x^{2}_{2,1} \\leq M\\cdot (1 - D_1)$$\n",
    "$$\\quad \\vdots \\quad \\quad \\quad\\quad \\vdots \\quad$$\n",
    "$$x^{11}_{1,1} + x^{11}_{2,1} \\leq M\\cdot (1 - D_1)$$\n",
    "$$x^{1}_{1,2} + x^{1}_{2,2} \\leq M\\cdot (1 - D_2)$$\n",
    "$$x^{2}_{1,2} + x^{2}_{2,2} \\leq M\\cdot (1 - D_2)$$\n",
    "$$\\quad \\vdots \\quad \\quad \\quad\\quad \\vdots \\quad$$\n",
    "$$\\quad \\vdots \\quad \\quad \\quad\\quad \\vdots \\quad$$\n",
    "$$\\quad \\vdots \\quad \\quad \\quad\\quad \\vdots \\quad$$\n",
    "$$x^{11}_{1,54} + x^{11}_{2,54} \\leq M\\cdot (1 - D_{54})$$\n"
   ]
  },
  {
   "cell_type": "markdown",
   "metadata": {},
   "source": []
  },
  {
   "cell_type": "markdown",
   "metadata": {},
   "source": []
  },
  {
   "cell_type": "markdown",
   "metadata": {},
   "source": []
  },
  {
   "cell_type": "markdown",
   "metadata": {},
   "source": []
  },
  {
   "cell_type": "markdown",
   "metadata": {},
   "source": []
  },
  {
   "cell_type": "markdown",
   "metadata": {},
   "source": []
  },
  {
   "cell_type": "markdown",
   "metadata": {},
   "source": []
  },
  {
   "cell_type": "markdown",
   "metadata": {},
   "source": []
  }
 ],
 "metadata": {
  "kernelspec": {
   "display_name": "Python 3",
   "language": "python",
   "name": "python3"
  },
  "language_info": {
   "codemirror_mode": {
    "name": "ipython",
    "version": 3
   },
   "file_extension": ".py",
   "mimetype": "text/x-python",
   "name": "python",
   "nbconvert_exporter": "python",
   "pygments_lexer": "ipython3",
   "version": "3.7.1"
  }
 },
 "nbformat": 4,
 "nbformat_minor": 2
}
