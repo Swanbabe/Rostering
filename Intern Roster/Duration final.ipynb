{
 "cells": [
  {
   "cell_type": "markdown",
   "metadata": {},
   "source": [
    "## Duration Constraint for $j=1$"
   ]
  },
  {
   "cell_type": "markdown",
   "metadata": {},
   "source": [
    "$$\\sum_{k=1}^{47} y1^{i}_{k} =1 \\quad  \\; {\\large\\forall} i$$\n",
    "\n",
    "$$8 - \\bigg( \\sum_{\\alpha = 0}^{7} x^{i}_{1,k + \\alpha} \\bigg) \\leq M \\cdot (1-y1^i_k)\\quad  \\; {\\large\\forall} i, \\quad  \\; {\\large\\forall_{k=1}^{47}}$$"
   ]
  }
 ],
 "metadata": {
  "kernelspec": {
   "display_name": "Python 3",
   "language": "python",
   "name": "python3"
  },
  "language_info": {
   "codemirror_mode": {
    "name": "ipython",
    "version": 3
   },
   "file_extension": ".py",
   "mimetype": "text/x-python",
   "name": "python",
   "nbconvert_exporter": "python",
   "pygments_lexer": "ipython3",
   "version": "3.7.1"
  }
 },
 "nbformat": 4,
 "nbformat_minor": 2
}
