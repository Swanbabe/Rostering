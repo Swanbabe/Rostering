{
 "cells": [
  {
   "cell_type": "markdown",
   "metadata": {},
   "source": [
    "# Intern Roster version 9.1"
   ]
  },
  {
   "cell_type": "markdown",
   "metadata": {},
   "source": [
    "## Tuples and Decision Variables\n"
   ]
  },
  {
   "cell_type": "markdown",
   "metadata": {},
   "source": [
    "\n",
    "range  Week = [1,54]\n",
    "\n",
    "range  Intern = [1,11]\n",
    "\n",
    "range Rotation = [1,17]\n",
    "\n",
    "Boolean Decision Variable: $x^i_{j,k}$\n",
    "\n",
    "Boolean Decision Variable: $D_k$\n",
    "\n",
    "Boolean Decision Variable: $y1^i_k$\n",
    "\n",
    "Boolean Decision Variable: $y2^i_k$\n",
    "\n",
    "Boolean Decision Variable: $y3^i_k$\n",
    "\n",
    "Boolean Decision Variable: $y4^i_k$\n",
    "\n",
    "Boolean Decision Variable: $y5^i_k$\n",
    "\n",
    "Boolean Decision Variable: $y6^i_k$\n",
    "\n",
    "Boolean Decision Variable: $y7^i_k$\n",
    "\n",
    "Boolean Decision Variable: $y8^i_k$\n",
    "\n",
    "Boolean Decision Variable: $y9^i_k$\n",
    "\n",
    "Boolean Decision Variable: $y11^i_k$\n",
    "\n",
    "Boolean Decision Variable: $y12^i_k$\n",
    "\n",
    "Boolean Decision Variable: $L2_k$\n",
    "\n",
    "Boolean Decision Variable: $L3_k$\n",
    "\n",
    "Boolean Decision Variable: $s^i$\n",
    "\n",
    "Integer: $M = 1000$"
   ]
  },
  {
   "cell_type": "markdown",
   "metadata": {},
   "source": [
    "## Objective Function\n"
   ]
  },
  {
   "cell_type": "markdown",
   "metadata": {},
   "source": [
    "\n",
    "$\\text{minimise } \\sum_{i=1}^{11} \\sum_{j=1}^{17} \\sum_{k=1}^{54}  x^i_{j,k}$"
   ]
  },
  {
   "cell_type": "markdown",
   "metadata": {},
   "source": [
    "## Constraints"
   ]
  },
  {
   "cell_type": "markdown",
   "metadata": {},
   "source": [
    "### Staggered start/ staggered finish"
   ]
  },
  {
   "cell_type": "markdown",
   "metadata": {},
   "source": [
    "\n",
    "$\\sum_{k = 51}^{54} x^i_{17,k} =4 \\quad \\forall_{i=1}^{6}$\n",
    "\n",
    "$\\sum_{k = 1}^{4} x^i_{17,k} =4 \\quad \\forall_{i=7}^{11}$\n",
    "\n",
    "$\\sum_{k = 1}^{50} x^i_{17,k} =0 \\quad \\forall_{i=1}^{6}$\n",
    "\n",
    "$\\sum_{k = 5}^{54} x^i_{17,k} =0 \\quad \\forall_{i=7}^{11}$\n"
   ]
  },
  {
   "cell_type": "markdown",
   "metadata": {},
   "source": [
    "### Orientation Constraints"
   ]
  },
  {
   "cell_type": "markdown",
   "metadata": {},
   "source": [
    "\n",
    "$\\sum_{k = 1}^{4} x^i_{5,k} =1 \\quad \\forall_{i=1}^{6}$\n",
    "\n",
    "$\\sum_{k = 5}^{8} x^i_{5,k} =1 \\quad \\forall_{i=7}^{11}$\n",
    "\n",
    "$\\sum_{k = 1}^{4} x^i_{9,k} =1 \\quad \\forall_{i=1}^{6}$\n",
    "\n",
    "$\\sum_{k = 5}^{8} x^i_{9,k} =1 \\quad \\forall_{i=7}^{11}$\n",
    "\n",
    "$\\sum_{k = 1}^{4} x^i_{10,k} =2 \\quad \\forall_{i=1}^{6}$\n",
    "\n",
    "$\\sum_{k = 5}^{8} x^i_{10,k} =2 \\quad \\forall_{i=7}^{11}$\n"
   ]
  },
  {
   "cell_type": "markdown",
   "metadata": {},
   "source": [
    "### Physical Constraint"
   ]
  },
  {
   "cell_type": "markdown",
   "metadata": {},
   "source": [
    "\n",
    "$\\sum_{j=1}^{17} x^i_{j,k} \\leq 1 \\quad \\forall_{i=1}^{11} \\; \\forall_{k=1}^{54}$"
   ]
  },
  {
   "cell_type": "markdown",
   "metadata": {},
   "source": [
    "### Rotation Completion Constraint"
   ]
  },
  {
   "cell_type": "markdown",
   "metadata": {},
   "source": [
    "\n",
    "$\\sum_{k=1}^{54} x^i_{1,k} = 8 \\quad \\forall_{i=1}^{11}$\n",
    "\n",
    "$\\sum_{k=1}^{54} x^i_{2,k} = 3 \\quad \\forall_{i=1}^{11}$\n",
    "\n",
    "$\\sum_{k=1}^{49} x^i_{3,k} = 4 \\quad \\forall_{i=1}^{11}$\n",
    "\n",
    "$\\sum_{k=1}^{49} x^i_{4,k} = 4 \\quad \\forall_{i=1}^{11}$\n",
    "\n",
    "$\\sum_{k=1}^{30} x^i_{5,k} = 3 \\quad \\forall_{i=1}^{11}$\n",
    "\n",
    "$\\sum_{k=1}^{54} x^i_{6,k} = 3 \\quad \\forall_{i=1}^{11}$\n",
    "\n",
    "$\\sum_{k=1}^{54} x^i_{7,k} = 3 \\quad \\forall_{i=1}^{11}$\n",
    "\n",
    "$\\sum_{k=1}^{54} x^i_{8,k} = 3 \\quad \\forall_{i=1}^{11}$\n",
    "\n",
    "$\\sum_{k=1}^{43} x^i_{9,k} = 5 \\quad \\forall_{i=1}^{11}$\n",
    "\n",
    "$\\sum_{k=1}^{54} x^i_{10,k} = 5 \\quad \\forall_{i=1}^{11}$\n",
    "\n",
    "$\\sum_{k=1}^{54} x^i_{11,k} = 4 \\quad \\forall_{i=1}^{11}$\n",
    "\n",
    "$\\sum_{k=1}^{30} x^i_{12,k} = 2 \\quad \\forall_{i=1}^{11}$\n",
    "\n",
    "$\\sum_{k=1}^{30} x^i_{13,k} = 1 \\quad \\forall_{i=1}^{11}$\n"
   ]
  },
  {
   "cell_type": "markdown",
   "metadata": {},
   "source": [
    "### Clinical Competency"
   ]
  },
  {
   "cell_type": "markdown",
   "metadata": {},
   "source": [
    "\n",
    "$\\sum_{k=1}^{27} \\sum_{j=1}^{2} x^i_{j,k} + \\sum_{k=1}^{27} \\sum_{j=6}^{8} x^i_{j,k} + \\sum_{k=1}^{27} x^i_{11,k} \\geq 3 \\quad \\forall_{i=1}^{11}$"
   ]
  },
  {
   "cell_type": "markdown",
   "metadata": {},
   "source": [
    "### CPD-G ($j=1$) Rotation Pairing"
   ]
  },
  {
   "cell_type": "markdown",
   "metadata": {},
   "source": [
    "\n",
    "$2-\\bigg( \\sum_{i=1}^{10} x^i_{1,k} \\bigg) \\leq M \\cdot D_k \\quad \\forall_{k=1}^{54}$\n",
    "\n",
    "$x^i_{1,k} \\leq M \\cdot (1-D_k) \\quad \\forall_{i=1}^{10} \\; \\forall_{k=1}^{54}$"
   ]
  },
  {
   "cell_type": "markdown",
   "metadata": {},
   "source": [
    "### Rotation Capacity"
   ]
  },
  {
   "cell_type": "markdown",
   "metadata": {},
   "source": [
    "\n",
    "$\\sum_{i=1}^{11} x^i_{1,k} \\leq 2 \\quad \\forall_{k=1}^{54}$\n",
    "\n",
    "$\\sum_{i=1}^{11} x^i_{2,k} \\leq 1 \\quad \\forall_{k=1}^{54}$\n",
    "\n",
    "$\\sum_{i=1}^{11} x^i_{3,k} \\leq 1 \\quad \\forall_{k=1}^{54}$\n",
    "\n",
    "$\\sum_{i=1}^{11} x^i_{4,k} \\leq 1 \\quad \\forall_{k=1}^{54}$\n",
    "\n",
    "$\\sum_{i=1}^{11} x^i_{5,k} \\leq 2 \\quad \\forall_{k=1}^{8}$\n",
    "\n",
    "$\\sum_{i=1}^{11} x^i_{5,k} \\leq 1 \\quad \\forall_{k=9}^{30}$\n",
    "\n",
    "$\\sum_{i=1}^{11} x^i_{6,k} \\leq 1 \\quad \\forall_{k=1}^{54}$\n",
    "\n",
    "$\\sum_{i=1}^{11} x^i_{7,k} \\leq 1 \\quad \\forall_{k=1}^{54}$\n",
    "\n",
    "$\\sum_{i=1}^{11} x^i_{8,k} \\leq 1 \\quad \\forall_{k=1}^{54}$\n",
    "\n",
    "$\\sum_{i=1}^{11} x^i_{9,k} \\leq 2 \\quad \\forall_{k=1}^{54}$\n",
    "\n",
    "$\\sum_{i=1}^{11} x^i_{10,k} \\leq 3 \\quad \\forall_{k=1}^{54}$\n",
    "\n",
    "$\\sum_{i=1}^{11} x^i_{11,k} \\leq 5 \\quad \\forall_{k=1}^{54}$\n",
    "\n",
    "$\\sum_{i=1}^{11} x^i_{12,k} \\leq 1 \\quad \\forall_{k=1}^{54}$\n",
    "\n",
    "$\\sum_{i=1}^{11} x^i_{13,k} \\leq 1 \\quad \\forall_{k=1}^{54}$\n"
   ]
  },
  {
   "cell_type": "markdown",
   "metadata": {},
   "source": [
    "### Duration Constraints"
   ]
  },
  {
   "cell_type": "markdown",
   "metadata": {},
   "source": [
    "\n",
    "$\\sum_{k=1}^{47} y1^i_k =1 \\quad \\forall_{i=1}^{11}$\n",
    "\n",
    "$8 - \\bigg( \\sum_{\\alpha =0}^{7} x^{i}_{1,k + \\alpha} \\bigg) \\leq M \\cdot (1-y1^i_k) \\quad \\forall_{i=1}^{11} \\; \\forall_{k=1}^{47}$\n",
    "\n",
    "\n",
    "$\\sum_{k=1}^{52} y2^i_k =1 \\quad \\forall_{i=1}^{11}$\n",
    "\n",
    "$3 - \\bigg( \\sum_{\\alpha =0}^{2} x^{i}_{2,k + \\alpha} \\bigg) \\leq M \\cdot (1-y2^i_k) \\quad \\forall_{i=1}^{11} \\; \\forall_{k=1}^{52}$\n",
    "\n",
    "\n",
    "$\\sum_{k=1}^{51} y3^i_k =1 \\quad \\forall_{i=1}^{11}$\n",
    "\n",
    "$4 - \\bigg( \\sum_{\\alpha =0}^{3} x^{i}_{3,k + \\alpha} \\bigg) \\leq M \\cdot (1-y3^i_k) \\quad \\forall_{i=1}^{11} \\; \\forall_{k=1}^{51}$\n",
    "\n",
    "\n",
    "$\\sum_{k=1}^{26} y4^i_k =1 \\quad \\forall_{i=1}^{11}$\n",
    "\n",
    "$2 - \\bigg( \\sum_{\\alpha =0}^{1} x^{i}_{4,k + \\alpha} \\bigg) \\leq M \\cdot (1-y4^i_k) \\quad \\forall_{i=1}^{11} \\; \\forall_{k=1}^{26}$\n",
    "\n",
    "$\\sum_{k=28}^{48} y4^i_k =1 \\quad \\forall_{i=1}^{11}$\n",
    "\n",
    "$2 - \\bigg( \\sum_{\\alpha =0}^{1} x^{i}_{4,k + \\alpha} \\bigg) \\leq M \\cdot (1-y4^i_k) \\quad \\forall_{i=1}^{11} \\; \\forall_{k=28}^{48}$\n",
    "\n",
    "$x^i_{4,28} \\leq M \\cdot s^i \\quad \\forall_{i=1}^{11}$\n",
    "\n",
    "$x^i_{4,27} \\leq M \\cdot (1-s^i) \\quad \\forall_{i=1}^{11}$\n",
    "\n",
    "\n",
    "$\\sum_{k=1}^{53} y5^i_k =1 \\quad \\forall_{i=1}^{11}$\n",
    "\n",
    "$2 - \\bigg( \\sum_{\\alpha =0}^{1} x^{i}_{5,k + \\alpha} \\bigg) \\leq M \\cdot (1-y5^i_k) \\quad \\forall_{i=1}^{11} \\; \\forall_{k=1}^{53}$\n",
    "\n",
    "\n",
    "$\\sum_{k=1}^{52} y6^i_k =1 \\quad \\forall_{i=1}^{11}$\n",
    "\n",
    "$3 - \\bigg( \\sum_{\\alpha =0}^{2} x^{i}_{6,k + \\alpha} \\bigg) \\leq M \\cdot (1-y6^i_k) \\quad \\forall_{i=1}^{11} \\; \\forall_{k=1}^{52}$\n",
    "\n",
    "\n",
    "$\\sum_{k=1}^{52} y7^i_k =1 \\quad \\forall_{i=1}^{11}$\n",
    "\n",
    "$3 - \\bigg( \\sum_{\\alpha =0}^{2} x^{i}_{7,k + \\alpha} \\bigg) \\leq M \\cdot (1-y7^i_k) \\quad \\forall_{i=1}^{11} \\; \\forall_{k=1}^{52}$\n",
    "\n",
    "\n",
    "$\\sum_{k=1}^{52} y8^i_k =1 \\quad \\forall_{i=1}^{11}$\n",
    "\n",
    "$3 - \\bigg( \\sum_{\\alpha =0}^{2} x^{i}_{8,k + \\alpha} \\bigg) \\leq M \\cdot (1-y8^i_k) \\quad \\forall_{i=1}^{11} \\; \\forall_{k=1}^{52}$\n",
    "\n",
    "\n",
    "$\\sum_{k=1}^{51} y9^i_k =1 \\quad \\forall_{i=1}^{11}$\n",
    "\n",
    "$4 - \\bigg( \\sum_{\\alpha =0}^{3} x^{i}_{9,k + \\alpha} \\bigg) \\leq M \\cdot (1-y9^i_k) \\quad \\forall_{i=1}^{11} \\; \\forall_{k=1}^{51}$\n",
    "\n",
    "\n",
    "$\\sum_{k=1}^{51} y11^i_k =1 \\quad \\forall_{i=1}^{11}$\n",
    "\n",
    "$4 - \\bigg( \\sum_{\\alpha =0}^{3} x^{i}_{11,k + \\alpha} \\bigg) \\leq M \\cdot (1-y11^i_k) \\quad \\forall_{i=1}^{11} \\; \\forall_{k=1}^{51}$\n",
    "\n",
    "\n",
    "$\\sum_{k=1}^{29} y12^i_k =1 \\quad \\forall_{i=1}^{11}$\n",
    "\n",
    "$2 - \\bigg( \\sum_{\\alpha =0}^{1} x^{i}_{12,k + \\alpha} \\bigg) \\leq M \\cdot (1-y12^i_k) \\quad \\forall_{i=1}^{11} \\; \\forall_{k=1}^{29}$"
   ]
  },
  {
   "cell_type": "markdown",
   "metadata": {},
   "source": [
    "### Annual Leave"
   ]
  },
  {
   "cell_type": "markdown",
   "metadata": {},
   "source": [
    "\n",
    "$\\sum_{i=1}^{11} x^i_{14,21} =11$\n",
    "\n",
    "$\\sum_{k=37}^{38} L2_k =1$\n",
    "\n",
    "$\\sum_{i=1}^{11} x^i_{15,k} = 6 \\cdot L2_k \\quad \\forall_{k=37}^{38}$\n",
    "\n",
    "$\\sum_{k=37}^{38} L3_k =1$\n",
    "\n",
    "$\\sum_{i=1}^{11} x^i_{16,k} = 5 \\cdot L3_k \\quad \\forall_{k=37}^{38}$"
   ]
  },
  {
   "cell_type": "markdown",
   "metadata": {},
   "source": [
    "### Avoidance for H ($j=13$)"
   ]
  },
  {
   "cell_type": "markdown",
   "metadata": {},
   "source": [
    "\n",
    "$x^i_{13,4} = 0 \\quad \\forall_{i=1}^{11}$\n",
    "\n",
    "$x^i_{13,5} = 0 \\quad \\forall_{i=1}^{11}$\n",
    "\n",
    "$x^i_{13,9} = 0 \\quad \\forall_{i=1}^{11}$\n",
    "\n",
    "$x^i_{13,11} = 0 \\quad \\forall_{i=1}^{11}$\n",
    "\n",
    "$x^i_{13,15} = 0 \\quad \\forall_{i=1}^{11}$\n",
    "\n",
    "$x^i_{13,19} = 0 \\quad \\forall_{i=1}^{11}$\n",
    "\n",
    "$x^i_{13,20} = 0 \\quad \\forall_{i=1}^{11}$\n",
    "\n",
    "$x^i_{13,26} = 0 \\quad \\forall_{i=1}^{11}$\n",
    "\n",
    "$x^i_{13,28} = 0 \\quad \\forall_{i=1}^{11}$\n",
    "\n",
    "$x^i_{13,33} = 0 \\quad \\forall_{i=1}^{11}$\n",
    "\n",
    "$x^i_{13,43} = 0 \\quad \\forall_{i=1}^{11}$\n",
    "\n",
    "$x^i_{13,44} = 0 \\quad \\forall_{i=1}^{11}$\n",
    "\n",
    "$x^i_{13,49} = 0 \\quad \\forall_{i=1}^{11}$"
   ]
  }
 ],
 "metadata": {
  "kernelspec": {
   "display_name": "Python 3",
   "language": "python",
   "name": "python3"
  },
  "language_info": {
   "codemirror_mode": {
    "name": "ipython",
    "version": 3
   },
   "file_extension": ".py",
   "mimetype": "text/x-python",
   "name": "python",
   "nbconvert_exporter": "python",
   "pygments_lexer": "ipython3",
   "version": "3.7.1"
  }
 },
 "nbformat": 4,
 "nbformat_minor": 2
}
