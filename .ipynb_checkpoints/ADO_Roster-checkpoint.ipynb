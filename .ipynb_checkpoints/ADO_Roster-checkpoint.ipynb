{
 "cells": [
  {
   "cell_type": "markdown",
   "metadata": {},
   "source": [
    "# ADO (Accrued Days Off) Roster (MMC)"
   ]
  },
  {
   "cell_type": "markdown",
   "metadata": {},
   "source": [
    "Rostering at MMC is dependant on individuals and their skill sets.  However, in the interest of anonymity we will use individuals initials instead of names."
   ]
  },
  {
   "cell_type": "markdown",
   "metadata": {},
   "source": [
    "## General Medicine"
   ]
  },
  {
   "cell_type": "markdown",
   "metadata": {},
   "source": [
    "General Medicine is relatively simpler than the other four teams as it does not have a skill set requisite - all team members have the same skills."
   ]
  },
  {
   "cell_type": "markdown",
   "metadata": {},
   "source": [
    "### Introduction"
   ]
  },
  {
   "cell_type": "markdown",
   "metadata": {},
   "source": [
    "We have 9 full-time pharmacists in the Gen Med team.  Let each pharmacist be $p$, where $p$ ranges from [1,9]."
   ]
  },
  {
   "cell_type": "markdown",
   "metadata": {},
   "source": [
    "We will make values of $p$ strings, with the values:\n",
    "\n",
    "|$p$|string name|\n",
    "|:-:|:-:|\n",
    "|1|KA|\n",
    "|2|AA|\n",
    "|3|JA|\n",
    "|4|ST|\n",
    "|5|TA|\n",
    "|6|SY|\n",
    "|7|JD|\n",
    "|8|CA|\n",
    "|9|SA|"
   ]
  },
  {
   "attachments": {},
   "cell_type": "markdown",
   "metadata": {},
   "source": [
    "In 2018, we want to ascribe each full-time pharmacist an ADO once every four weeks.  We have 250 normal working days in 2018 on which an ADO can occur.  We let these days be $d$, where $d$ ranges from [1,250].\n"
   ]
  },
  {
   "cell_type": "markdown",
   "metadata": {},
   "source": [
    "### Decision Variables"
   ]
  },
  {
   "cell_type": "markdown",
   "metadata": {},
   "source": [
    "We have that:\n",
    "\n",
    "$$y_{pd}$$ for some pharmacist $y$ that has an ADO on day $d$"
   ]
  },
  {
   "cell_type": "markdown",
   "metadata": {},
   "source": [
    "### Objective Function"
   ]
  },
  {
   "cell_type": "markdown",
   "metadata": {},
   "source": [
    "### Constraints"
   ]
  },
  {
   "cell_type": "markdown",
   "metadata": {},
   "source": [
    "_One ADO each per month_"
   ]
  },
  {
   "cell_type": "markdown",
   "metadata": {},
   "source": [
    "$$\\sum_d \\; y_{pd} \\quad \\forall p$$"
   ]
  },
  {
   "cell_type": "markdown",
   "metadata": {},
   "source": [
    "_Birthday Constraint_\n",
    "\n",
    "If a pharmacist has a birthday on a weekday, they receive an ADO on that day."
   ]
  },
  {
   "cell_type": "markdown",
   "metadata": {},
   "source": [
    "As this data is not available to us, we will just make up imaginary birthdays for these people."
   ]
  },
  {
   "cell_type": "markdown",
   "metadata": {},
   "source": [
    "|Pharmacist|Birthday|\n",
    "|:-:|:-:|\n",
    "|KA|22/04|\n",
    "|AA|04/03|\n",
    "|JA|11/09|\n",
    "|ST|11/11|\n",
    "|TA|23/03|\n",
    "|SY|25/05|\n",
    "|JD|01/07|\n",
    "|CA|10/08|\n",
    "|SA|03/09|"
   ]
  },
  {
   "cell_type": "code",
   "execution_count": null,
   "metadata": {},
   "outputs": [],
   "source": []
  }
 ],
 "metadata": {
  "kernelspec": {
   "display_name": "Python 3",
   "language": "python",
   "name": "python3"
  },
  "language_info": {
   "codemirror_mode": {
    "name": "ipython",
    "version": 3
   },
   "file_extension": ".py",
   "mimetype": "text/x-python",
   "name": "python",
   "nbconvert_exporter": "python",
   "pygments_lexer": "ipython3",
   "version": "3.6.5"
  }
 },
 "nbformat": 4,
 "nbformat_minor": 2
}
